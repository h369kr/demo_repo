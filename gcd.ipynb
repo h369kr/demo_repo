{
 "cells": [
  {
   "cell_type": "code",
   "execution_count": 11,
   "metadata": {},
   "outputs": [],
   "source": [
    "# a = int(input())\n",
    "# b = int(input())"
   ]
  },
  {
   "cell_type": "code",
   "execution_count": 12,
   "metadata": {},
   "outputs": [],
   "source": [
    "# list1 = []\n",
    "# def fact1(x):\n",
    "#     for i in range (1,int(a/2)+1):\n",
    "#         if a % i == 0:\n",
    "#             list1.append(i)"
   ]
  },
  {
   "cell_type": "code",
   "execution_count": 13,
   "metadata": {},
   "outputs": [],
   "source": [
    "# list2 = []\n",
    "# def fact2(y):\n",
    "#     for i in range (1,int(b/2)+1):\n",
    "#         if b % i == 0:\n",
    "#             list2.append(i)"
   ]
  },
  {
   "cell_type": "code",
   "execution_count": 14,
   "metadata": {},
   "outputs": [],
   "source": [
    "# fact1(a)"
   ]
  },
  {
   "cell_type": "code",
   "execution_count": 15,
   "metadata": {},
   "outputs": [],
   "source": [
    "# fact2(b)"
   ]
  },
  {
   "cell_type": "code",
   "execution_count": 16,
   "metadata": {},
   "outputs": [],
   "source": [
    "# if a>b:\n",
    "#     for i in reversed(list1):\n",
    "#         for j in reversed(list2):\n",
    "#             if i == j:\n",
    "#                 print(i)\n",
    "#             break\n",
    "# else:\n",
    "#     for i in reversed(list2):\n",
    "#         for j in reversed(list1):\n",
    "#             if i == j:\n",
    "#                 print(i)\n",
    "#             break"
   ]
  },
  {
   "cell_type": "code",
   "execution_count": 18,
   "metadata": {},
   "outputs": [],
   "source": [
    "def gcd(p,q):\n",
    "    if p < q:\n",
    "        small = p\n",
    "    else:\n",
    "        small = q\n",
    "    for i in range(1,small+1):\n",
    "        if p % i == 0 and q % i == 0:\n",
    "            gcd = i\n",
    "    return(gcd)"
   ]
  },
  {
   "cell_type": "code",
   "execution_count": 19,
   "metadata": {},
   "outputs": [
    {
     "data": {
      "text/plain": [
       "4"
      ]
     },
     "execution_count": 19,
     "metadata": {},
     "output_type": "execute_result"
    }
   ],
   "source": [
    "gcd(8,12)"
   ]
  }
 ],
 "metadata": {
  "kernelspec": {
   "display_name": "Python 3",
   "language": "python",
   "name": "python3"
  },
  "language_info": {
   "codemirror_mode": {
    "name": "ipython",
    "version": 3
   },
   "file_extension": ".py",
   "mimetype": "text/x-python",
   "name": "python",
   "nbconvert_exporter": "python",
   "pygments_lexer": "ipython3",
   "version": "3.11.1"
  },
  "orig_nbformat": 4,
  "vscode": {
   "interpreter": {
    "hash": "9b4d75ac280b6c7c3aa43866cb82dc88915409b55fec83a093dd0284cb58708e"
   }
  }
 },
 "nbformat": 4,
 "nbformat_minor": 2
}
